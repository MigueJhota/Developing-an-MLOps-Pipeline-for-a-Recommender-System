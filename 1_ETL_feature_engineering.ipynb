{
 "cells": [
  {
   "cell_type": "markdown",
   "metadata": {},
   "source": [
    "**1. ETL (DATASET ORIGINAL)**"
   ]
  },
  {
   "cell_type": "markdown",
   "metadata": {},
   "source": [
    "1.1 Importación de librerias"
   ]
  },
  {
   "cell_type": "code",
   "execution_count": 1,
   "metadata": {},
   "outputs": [],
   "source": [
    "\n",
    "'''Bibliotecas necesarias.'''\n",
    "import pandas as pd                 # Pandas para manipulación de datos tabulares.\n",
    "import json                         # Módulo para trabajar con JSON.\n",
    "import ast                          # Módulo para evaluar expresiones literales de Python.\n",
    "import re                           # Módulo para trabajar con expresiones regulares.\n",
    "from textblob import TextBlob       # Importa la clase TextBlob desde la biblioteca textblob.\n",
    "import nltk                         # Natural Language Toolkit.\n",
    "import csv                          # Importa el módulo CSV en Python.\n",
    "\n",
    "'''Habilita la recarga automática de módulos antes de ejecutar una celda'''\n",
    "%load_ext autoreload\n",
    "%autoreload 2\n",
    "\n",
    "'''Importa el módulo de advertencias y configura para ignorar todas las advertencias'''\n",
    "import warnings\n",
    "warnings.filterwarnings(\"ignore\")"
   ]
  },
  {
   "cell_type": "markdown",
   "metadata": {},
   "source": [
    "1.2 Funciones auxiliares"
   ]
  },
  {
   "cell_type": "code",
   "execution_count": null,
   "metadata": {},
   "outputs": [],
   "source": []
  }
 ],
 "metadata": {
  "kernelspec": {
   "display_name": "Python 3",
   "language": "python",
   "name": "python3"
  },
  "language_info": {
   "codemirror_mode": {
    "name": "ipython",
    "version": 3
   },
   "file_extension": ".py",
   "mimetype": "text/x-python",
   "name": "python",
   "nbconvert_exporter": "python",
   "pygments_lexer": "ipython3",
   "version": "3.10.8"
  }
 },
 "nbformat": 4,
 "nbformat_minor": 2
}
