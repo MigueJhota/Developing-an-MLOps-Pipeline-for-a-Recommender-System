{
 "cells": [
  {
   "cell_type": "markdown",
   "metadata": {},
   "source": [
    "**1. ETL (ORIGINAL DATASET)**"
   ]
  },
  {
   "cell_type": "markdown",
   "metadata": {},
   "source": [
    "# 1.1 Import the required libraries"
   ]
  },
  {
   "cell_type": "markdown",
   "metadata": {},
   "source": [
    "The following libraries are common in Python programming environments, especially in the context of data analysis and data science. \n",
    "\n",
    "\n",
    "**Pandas (import pandas as pd):**\n",
    "\n",
    "Pandas is a Python library that provides flexible date structures and date analysis tools. \n",
    "Importing it as pd is a common convention to shorten the library name and make the code more consice. \n",
    "Pandas is widely used to manipulate and analyze tabular datasets.\n",
    "\n",
    "\n",
    "**JSON(import json):**\n",
    "\n",
    "JSON (JavaScript Object Notation) is a lightweight, human-readable data interchange format.\n",
    "The json library in Python allows for the serialization and deserialization of data in JSON format.\n",
    "It can be used to read and write data in this format.\n",
    "\n",
    "\n",
    "**AST (import ast):**\n",
    "\n",
    "AST (Abstract Syntax Tree) is a hierarchical representation of the syntactic structure of a Python program.\n",
    "The ast library allows you to analyze and manipulate the abstract syntax tree of a Python source code.\n",
    "It can be useful for performing static analysis of the code.\n",
    "\n",
    "\n",
    "**Regular Expressions (import re)**\n",
    "\n",
    "The 're' module provides regular expression operations in Python.\n",
    "Regular expressions are search patterns used to match text strings.\n",
    "They are powerful tools for manipulating and searching specific patterns within text strings.\n",
    "\n",
    "\n",
    "**%load_ext autoreload & %autoreload 2:**\n",
    "\n",
    "These commands are specific to jupyter notebooks and are used to automatically reload modules before executing a cell '%load_ext autoreload' enables automatic module reloading, and '%autoreload 2' sets the autoreload to be more aggressive, even reloading module functions.\n",
    "\n",
    "\n",
    "**Warnings (import warnings):**\n",
    "\n",
    "The warnings module provides tools for controlling the warnings emitted by Python.\n",
    "In this case, it's being configured to ignore warnings, which can be useful to prevent warnings from filling up the console output and distracting during code execution.\n",
    "In summary, these imports are common in data analysis and date science environments in Python, providing tools for manipulating data, working with JSON, parsing regular expressions, and handling warnings.\n",
    "Additionaly, the '%load_ext autoreload and %autoreload 2' commands are specific to jupyter notebooks and are used to facilitate interactive development.\n",
    "\n",
    "\n",
    "**TextBlob (from textblob import TextBlob)**\n",
    "\n",
    "TextBlob is a Python library that provides tools for natural language processing (NLP).\n",
    "It enables tasks such as sentiment analysis, extraction of key phrases, part-of-speech tagging, etc.\n",
    "\n",
    "\n",
    "**Nltk (import nltk):**\n",
    "\n",
    "The Natural Language Toolkit (nltk) library is another powerful tool for natural language processing in Python.\n",
    "It provides a range of modules and resources for tasks such as tokenization, syntactic analysis, stemming, among others.\n",
    "In this case, you are importing the entire nltk module.\n",
    "\n",
    "\n",
    "**CSV (import csv)**\n",
    "\n",
    "The 'csv' module in Python provides funtionality for working with CSV (Comma-Separated Values) files.\n",
    "CSV files are a common format for storing tabular data, where each row in the file represents a data entry and values are separated by commas or another delimiter.\n",
    "\n",
    "The 'csv' module in Python provides functions for reading data from CSV files and writing data to CSV files.\n",
    "Some important functions include 'csv.reader()' for reading a CSV file and 'csv.writer()' for writing to a CSV file.\n",
    "\n",
    "\n"
   ]
  },
  {
   "cell_type": "code",
   "execution_count": 6,
   "metadata": {},
   "outputs": [
    {
     "name": "stdout",
     "output_type": "stream",
     "text": [
      "The autoreload extension is already loaded. To reload it, use:\n",
      "  %reload_ext autoreload\n"
     ]
    }
   ],
   "source": [
    "\n",
    "'''Necessary libraries.'''\n",
    "import pandas as pd                 # Pandas for tabular data manipulation.\n",
    "import json                         # Module for working with JSON.\n",
    "import ast                          # Module for evaluating Python literal expressions.\n",
    "import re                           # Module for working with regular expressions.\n",
    "from textblob import TextBlob       # I import TextBlob from the textblob library.\n",
    "import nltk                         # Natural Language Toolkit.\n",
    "import csv                          # I import the CSV module into Python.\n",
    "\n",
    "'''Enable auto-reload of modules before executing a cell'''\n",
    "%load_ext autoreload\n",
    "%autoreload 2\n",
    "\n",
    "'''Import the warning module and set it to ignore all warnings'''\n",
    "import warnings\n",
    "warnings.filterwarnings(\"ignore\")"
   ]
  },
  {
   "cell_type": "markdown",
   "metadata": {},
   "source": [
    "# 1.2 Auxiliary Functions"
   ]
  },
  {
   "cell_type": "markdown",
   "metadata": {},
   "source": [
    "**1.2.1 Check Data Type**\n",
    "\n",
    "We're checking the data types contained in the columns of \"df_games\".\n",
    "\n",
    "This function called 'check data types' takes a DataFrame as input and returns a new DataFrame that provides information about the data types and the quantity of null values in each column of the input DtaFrame.\n",
    "\n",
    "This function offers a useful summary of the features of the columns in a DataFrame, incluiding data types and the quantity of null values.\n",
    "It's especially useful for conducting an initial data quality analysis on a dataset."
   ]
  },
  {
   "cell_type": "code",
   "execution_count": 7,
   "metadata": {},
   "outputs": [],
   "source": [
    "def check_data_type(df):\n",
    "    \n",
    "    '''A dictionary (my_dict) is created with five keys: \"field_name\", \"data_type\", \"non_null_%\", \"null_%\" and \"nulls\". \n",
    "    These keys will be used to store information about each column of the DataFrame.'''\n",
    "    \n",
    "    my_dict = {\"field_name\" : [], \"data_type\" : [], \"non_null_%\" : [], \"null_%\" : [], \"nulls\" : []}\n",
    "    \n",
    "    \n",
    "    '''A loop is performed over all the columns of the DataFrame df'''\n",
    "    for column in df.columns:\n",
    "        percentage_non_nulls = (df[column].count() / len(df) * 100)     # The percentage of non-null values in the current column is calculated \n",
    "        my_dict['field_name'].append(column)                            # The current column is added to the list under the key 'field_name'        \n",
    "        my_dict['data_type'].append(df[column].apply(type).unique())    # Obtain the unique data type in the current column and add it to the list under the key 'data type'.\n",
    "        my_dict['non_null_%'].append(round(percentage_non_nulls, 2))    # Add the percentage of non-null values to the list under the key 'non_null_%'.\n",
    "        my_dict['null_%'].append(round(100 - percentage_non_nulls, 2))  # Add the percentage of null values to the list under the key 'null_%'.\n",
    "        my_dict['nulls'].append(df[column].isnull().sum())              # Add the number of null values in the current column to the list under the key 'nulls'.\n",
    "        \n",
    "        '''The dictionari my_dict is used to create a new DataFrame called df_info.'''\n",
    "        df_info = pd.DataFrame(my_dict)\n",
    "        \n",
    "        '''The function returns the DataFrame df_info containing information about each column,\n",
    "        incluiding the column name, data type, percentage of non-null values, percentage of null values, and the number of null values.'''\n",
    "        return df_info"
   ]
  },
  {
   "cell_type": "markdown",
   "metadata": {},
   "source": [
    "**1.2.2 Check duplicates by columns**\n",
    "\n",
    "The following function provides a useful tool for identifying and sorting duplicate rows in a pandas DataFrame based on the values of a specifict column.\n",
    "In our case, it can be useful for data analysis when examining and handling duplicates based on a particular column."
   ]
  },
  {
   "cell_type": "code",
   "execution_count": 8,
   "metadata": {},
   "outputs": [],
   "source": [
    "def check_duplicates_by_columns(df, column):\n",
    "    \n",
    "    '''Duplicate rows are filtered'''\n",
    "    duplicated_rows = df[df.duplicated(subset=column, keep=False)]\n",
    "    if duplicated_rows.empty:\n",
    "        return 'There are no duplicates'\n",
    "    \n",
    "    '''The duplicate rows are sorted for comparison'''\n",
    "    duplicated_rows_sorted = duplicated_rows.sort_values(by=column)\n",
    "    return duplicated_rows_sorted"
   ]
  },
  {
   "cell_type": "markdown",
   "metadata": {},
   "source": [
    "**1.2.3 Convert date**\n",
    "\n",
    "The following function takes a date string in a specifict format, attempts to extract and convert that date to a different format ('YYYY-MM-DD'),\n",
    "and returns the resulting date or an error message if the string does not match the expected format."
   ]
  },
  {
   "cell_type": "code",
   "execution_count": 10,
   "metadata": {},
   "outputs": [],
   "source": [
    "def convert_date(date_string):\n",
    "    \n",
    "    '''Searches the date string for a pattern matching the format \"month, day, year'''\n",
    "    match = re.search(r'(\\w+\\s\\d{4})', date_string)\n",
    "\n",
    "    if match:\n",
    "        '''If there is a match, it extracts the date string'''\n",
    "        date_str = match.group(1)\n",
    "        try:\n",
    "            '''It tries to convert the date string to a Pandas date object'''\n",
    "            date_dt = pd.to_datetime(date_str)\n",
    "            '''It formats the resulting date into the \"YYY-MM-DD\" format and retuns it'''\n",
    "            return date_dt.strftime('%y-%m-%d')\n",
    "        except:\n",
    "            '''In case of an error during conversion, it returns \"Invalid date\".'''\n",
    "            return 'Invalid date'\n",
    "    \n",
    "    else:\n",
    "        '''If there is no match, it returns \"Invalid format\".'''\n",
    "        return 'Invalid format'"
   ]
  },
  {
   "cell_type": "markdown",
   "metadata": {},
   "source": [
    "**1.2.4 Sentiment analysis**\n",
    "\n",
    "This finction provides a basic way to categorize the sentiment of a text into positive, negative, or neutral based on the polarity calculated by TextBlob."
   ]
  },
  {
   "cell_type": "code",
   "execution_count": 11,
   "metadata": {},
   "outputs": [],
   "source": [
    "'''Definition of the sentiment analysis function.'''\n",
    "def sentiment_analysis(review):             # Checks if the review is None.\n",
    "    \n",
    "    if review is None:                      # If affirmative, it returns 1, which could be interpreted as a neutral.\n",
    "        return 1\n",
    "    \n",
    "    analysis = TextBlob(review)             # Creates an instance of the TextBlob class with the provided review.\n",
    "    polarity = analysis.sentiment.polarity  # Gets the sentiment polarity from the TextBlob analysis.\n",
    "    \n",
    "    if polarity < -0.2:                     # Compares the polarity with thresholds to determine the overall sentiment.\n",
    "        return 0                            # If the polarity is less than -0.2, it's considered a negative sentiment and returns 0.\n",
    "    \n",
    "    elif polarity > 0.2:                    # If the polarity is greater than 0.2, it's considered a positive sentiment and returns 2.\n",
    "        return 2\n",
    "    \n",
    "    else:\n",
    "        return 1                            # In other cases, it return 1, which could be interpreted as a neutral sentiment.\n",
    "    \n",
    "             \n"
   ]
  },
  {
   "cell_type": "markdown",
   "metadata": {},
   "source": [
    "**1.2.5 Analysis of example reviews by sentiment**\n",
    "\n",
    "The function 'examples_reviwe_by_sentiment' is used to analyze and present examples of reviews classified according to their sentiments.\n",
    "The function takes two lists as parameters: 'reviews', which contains the reviews, and 'sentiments', which contains the sentiment values associated with each review.\n",
    "\n",
    "The function iterates through three sentiment categories.\n",
    "\n",
    "0 for negative\n",
    "1 for neutral\n",
    "2 for positive\n",
    "\n",
    "It then displays examples of reviews corresponding to each category.\n",
    "For each category, it prints the category number and filters the reviews that have that sentiment value.\n",
    "Then, it presents the first three examples of reviews from that category.\n"
   ]
  },
  {
   "cell_type": "code",
   "execution_count": 13,
   "metadata": {},
   "outputs": [],
   "source": [
    "def examples_reviews_by_sentiments(reviews, sentiments):\n",
    "    \n",
    "    for sentiment_value in range(3):\n",
    "        print(f'For the sentiment analysis category {sentiment_value}, here are some examples of reviwes')\n",
    "        sentiment_reviews = [reviews for reviews, sentiment in zip(reviews, sentiments) if sentiments == sentiment_value]\n",
    "        \n",
    "        for i, reviews in enumerate(sentiment_reviews[:3], start=1):\n",
    "            print(f'Review {i}: {reviews}')\n",
    "            \n",
    "        print('\\n')"
   ]
  }
 ],
 "metadata": {
  "kernelspec": {
   "display_name": "Python 3",
   "language": "python",
   "name": "python3"
  },
  "language_info": {
   "codemirror_mode": {
    "name": "ipython",
    "version": 3
   },
   "file_extension": ".py",
   "mimetype": "text/x-python",
   "name": "python",
   "nbconvert_exporter": "python",
   "pygments_lexer": "ipython3",
   "version": "3.10.8"
  }
 },
 "nbformat": 4,
 "nbformat_minor": 2
}
