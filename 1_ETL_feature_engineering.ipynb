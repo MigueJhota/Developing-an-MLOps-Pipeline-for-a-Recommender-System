{
 "cells": [
  {
   "cell_type": "markdown",
   "metadata": {},
   "source": [
    "**1. ETL (ORIGINAL DATASET)**"
   ]
  },
  {
   "cell_type": "markdown",
   "metadata": {},
   "source": [
    "1.1 Import the required libraries"
   ]
  },
  {
   "cell_type": "markdown",
   "metadata": {},
   "source": [
    "The following libraries are common in Python programming environments, especially in the context of data analysis and data science. \n",
    "\n",
    "\n",
    "**Pandas (import pandas as pd):**\n",
    "\n",
    "Pandas is a Python library that provides flexible date structures and date analysis tools. \n",
    "Importing it as pd is a common convention to shorten the library name and make the code more consice. \n",
    "Pandas is widely used to manipulate and analyze tabular datasets.\n",
    "\n",
    "\n",
    "**JSON(import json):**\n",
    "\n",
    "JSON (JavaScript Object Notation) is a lightweight, human-readable data interchange format.\n",
    "The json library in Python allows for the serialization and deserialization of data in JSON format.\n",
    "It can be used to read and write data in this format.\n",
    "\n",
    "\n",
    "**AST (import ast):**\n",
    "\n",
    "AST (Abstract Syntax Tree) is a hierarchical representation of the syntactic structure of a Python program.\n",
    "The ast library allows you to analyze and manipulate the abstract syntax tree of a Python source code.\n",
    "It can be useful for performing static analysis of the code.\n",
    "\n",
    "\n",
    "\n"
   ]
  },
  {
   "cell_type": "code",
   "execution_count": 2,
   "metadata": {},
   "outputs": [
    {
     "name": "stdout",
     "output_type": "stream",
     "text": [
      "The autoreload extension is already loaded. To reload it, use:\n",
      "  %reload_ext autoreload\n"
     ]
    }
   ],
   "source": [
    "\n",
    "'''Necessary libraries.'''\n",
    "import pandas as pd                 # Pandas for tabular data manipulation.\n",
    "import json                         # Module for working with JSON.\n",
    "import ast                          # Module for evaluating Python literal expressions.\n",
    "import re                           # Module for working with regular expressions.\n",
    "from textblob import TextBlob       # I import TextBlob from the textblob library.\n",
    "import nltk                         # Natural Language Toolkit.\n",
    "import csv                          # I import the CSV module into Python.\n",
    "\n",
    "'''Enable auto-reload of modules before executing a cell'''\n",
    "%load_ext autoreload\n",
    "%autoreload 2\n",
    "\n",
    "'''Import the warning module and set it to ignore all warnings'''\n",
    "import warnings\n",
    "warnings.filterwarnings(\"ignore\")"
   ]
  },
  {
   "cell_type": "markdown",
   "metadata": {},
   "source": [
    "1.2 Auxiliary Functions"
   ]
  },
  {
   "cell_type": "code",
   "execution_count": null,
   "metadata": {},
   "outputs": [],
   "source": []
  }
 ],
 "metadata": {
  "kernelspec": {
   "display_name": "Python 3",
   "language": "python",
   "name": "python3"
  },
  "language_info": {
   "codemirror_mode": {
    "name": "ipython",
    "version": 3
   },
   "file_extension": ".py",
   "mimetype": "text/x-python",
   "name": "python",
   "nbconvert_exporter": "python",
   "pygments_lexer": "ipython3",
   "version": "3.10.8"
  }
 },
 "nbformat": 4,
 "nbformat_minor": 2
}
